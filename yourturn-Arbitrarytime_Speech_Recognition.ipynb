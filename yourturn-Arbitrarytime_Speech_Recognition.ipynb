{
 "cells": [
  {
   "cell_type": "code",
   "execution_count": null,
   "id": "df95e99b",
   "metadata": {},
   "outputs": [],
   "source": [
    "import os\n",
    "import wave\n",
    "import threading\n",
    "\n",
    "import pyaudio\n",
    "from google.cloud import speech, storage\n",
    "\n",
    "CHUNK = 1024\n",
    "FORMAT = pyaudio.paInt16\n",
    "CHANNELS = 2\n",
    "RATE = 44100\n",
    "YOUR_WAVE = 'audio.wav'\n",
    "\n",
    "is_recording = False"
   ]
  },
  {
   "cell_type": "code",
   "execution_count": null,
   "id": "199d1bc0",
   "metadata": {},
   "outputs": [],
   "source": [
    "def start_record():\n",
    "    # Record\n",
    "    global is_recording\n",
    "    print(\"start recording ...\")\n",
    "    p = pyaudio.PyAudio()\n",
    "    s = p.open(format=FORMAT, channels=CHANNELS, rate=RATE, input=True, frames_per_buffer=CHUNK)\n",
    "    frames = []\n",
    "    is_recording = True\n",
    "    while is_recording:\n",
    "        data = s.read(CHUNK)\n",
    "        frames.append(data)\n",
    "    s.stop_stream()\n",
    "    s.close()\n",
    "    p.terminate()\n",
    "    print(\"recording done.\")\n",
    "    \n",
    "    # Save to wave file\n",
    "    with wave.open(YOUR_WAVE, 'wb') as wav:\n",
    "        wav.setnchannels(CHANNELS)\n",
    "        wav.setsampwidth(p.get_sample_size(FORMAT))\n",
    "        wav.setframerate(RATE)\n",
    "        wav.writeframes(b''.join(frames))\n",
    "\n",
    "def stop_record():\n",
    "    x = input('any key to stop ...')\n",
    "    global is_recording\n",
    "    is_recording = False\n",
    "\n",
    "def recognize():\n",
    "    YOUR_SERVICE = 'YOUR_SERVICE'\n",
    "    YOUR_BUCKET = 'YOUR_BUCKET'\n",
    "    os.environ['GOOGLE_APPLICATION_CREDENTIALS'] = YOUR_SERVICE\n",
    "    storage_client = storage.Client()\n",
    "    speech_client = speech.SpeechClient()\n",
    "    \n",
    "    print('start recognizing ...')\n",
    "    # upload file to GCS(Google Cloud Storage)\n",
    "    bucket = storage_client.bucket(YOUR_BUCKET)\n",
    "    bucket.blob(YOUR_WAVE).upload_from_filename(YOUR_WAVE)\n",
    "    uri = f'gs://{YOUR_BUCKET}/{YOUR_WAVE}'\n",
    "\n",
    "    # Transcript the audio\n",
    "    audio = speech.RecognitionAudio(uri=uri)\n",
    "    config = speech.RecognitionConfig(\n",
    "        sample_rate_hertz=RATE,\n",
    "        audio_channel_count=CHANNELS,  # take care, default is 1\n",
    "        language_code=\"zh-TW\"\n",
    "    )\n",
    "    response = speech_client.recognize(config=config, audio=audio)\n",
    "\n",
    "    for result in response.results:\n",
    "        print(f'{result.alternatives[0].transcript}, {result.alternatives[0].confidence:.3f}')"
   ]
  },
  {
   "cell_type": "code",
   "execution_count": null,
   "id": "30fdc943",
   "metadata": {},
   "outputs": [],
   "source": [
    "t = threading.Thread(target=start_record)\n",
    "t.start()\n",
    "stop_record()\n",
    "t.join()\n",
    "recognize()"
   ]
  },
  {
   "cell_type": "code",
   "execution_count": null,
   "id": "8e6c734e",
   "metadata": {},
   "outputs": [],
   "source": []
  }
 ],
 "metadata": {
  "kernelspec": {
   "display_name": "Python 3",
   "language": "python",
   "name": "python3"
  },
  "language_info": {
   "codemirror_mode": {
    "name": "ipython",
    "version": 3
   },
   "file_extension": ".py",
   "mimetype": "text/x-python",
   "name": "python",
   "nbconvert_exporter": "python",
   "pygments_lexer": "ipython3",
   "version": "3.6.8"
  }
 },
 "nbformat": 4,
 "nbformat_minor": 5
}

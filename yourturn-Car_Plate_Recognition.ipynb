{
 "cells": [
  {
   "cell_type": "code",
   "execution_count": null,
   "id": "ff68007d",
   "metadata": {},
   "outputs": [],
   "source": [
    "import os\n",
    "import io\n",
    "\n",
    "import matplotlib.pyplot as plt\n",
    "from PIL import Image\n",
    "from google.cloud import vision\n",
    "\n",
    "YOUR_PLATE = 'some_plate.jpg'\n",
    "YOUR_SERVICE = 'YOUR_SERVICE'\n",
    "\n",
    "os.environ['GOOGLE_APPLICATION_CREDENTIALS'] = YOUR_SERVICE\n",
    "client = vision.ImageAnnotatorClient()\n",
    "\n",
    "with open(YOUR_PLATE, 'rb') as image_file:\n",
    "    content = image_file.read()\n",
    "image = vision.Image(content=content)"
   ]
  },
  {
   "cell_type": "code",
   "execution_count": null,
   "id": "193f9897",
   "metadata": {},
   "outputs": [],
   "source": [
    "response = client.document_text_detection(image=image)"
   ]
  },
  {
   "cell_type": "code",
   "execution_count": null,
   "id": "8aa348e3",
   "metadata": {},
   "outputs": [],
   "source": [
    "im = Image.open(YOUR_PLATE)\n",
    "\n",
    "plt.imshow(im)\n",
    "\n",
    "for text in response.text_annotations:\n",
    "    print(text.description)\n",
    "    a = [(v.x, v.y) for v in text.bounding_poly.vertices]\n",
    "    a.append(a[0])\n",
    "    x, y = zip(*a)\n",
    "    plt.plot(x, y, color='blue')\n",
    "\n",
    "plt.show()"
   ]
  },
  {
   "cell_type": "code",
   "execution_count": null,
   "id": "9b947402",
   "metadata": {},
   "outputs": [],
   "source": [
    "response = client.object_localization(image=image)"
   ]
  },
  {
   "cell_type": "code",
   "execution_count": null,
   "id": "bd61a611",
   "metadata": {},
   "outputs": [],
   "source": [
    "plt.imshow(im)\n",
    "\n",
    "w, h = im.size\n",
    "plates = []\n",
    "for obj in response.localized_object_annotations:\n",
    "    if obj.name == 'License plate':\n",
    "        desc = f'{obj.name}: {obj.score:.2f}'\n",
    "        a = [(v.x * w, v.y * h) for v in obj.bounding_poly.normalized_vertices]\n",
    "        a.append(a[0])\n",
    "        x, y = zip(*a)\n",
    "        plates.append({'bound': [min(x), min(y), max(x), max(y)], 'coor': [x, y]})\n",
    "        plt.plot(x, y, color='blue')\n",
    "        plt.text(x[0], y[0], desc, color='red')\n",
    "\n",
    "plt.show()"
   ]
  },
  {
   "cell_type": "code",
   "execution_count": null,
   "id": "771deba4",
   "metadata": {},
   "outputs": [],
   "source": [
    "for plate in plates:\n",
    "    p = im.crop(plates[0]['bound'])\n",
    "    buf = io.BytesIO()\n",
    "    p.save(buf, format='JPEG')\n",
    "    pi = vision.Image(content=buf.getvalue())\n",
    "    response = client.text_detection(image=pi)\n",
    "    r = {text.description.strip() for text in response.text_annotations}\n",
    "    plate['text'] = r\n",
    "    print(r)"
   ]
  },
  {
   "cell_type": "code",
   "execution_count": null,
   "id": "e71b5bc9",
   "metadata": {
    "scrolled": true
   },
   "outputs": [],
   "source": [
    "plt.imshow(im)\n",
    "\n",
    "for plate in plates:\n",
    "    desc = list(plate['text'])[0]\n",
    "    plt.plot(plate['coor'][0], plate['coor'][1], color='blue')\n",
    "    plt.text(x[0], y[0], desc, color='blue')\n",
    "\n",
    "plt.axis('off')\n",
    "plt.show()"
   ]
  },
  {
   "cell_type": "code",
   "execution_count": null,
   "id": "808442d5",
   "metadata": {},
   "outputs": [],
   "source": []
  }
 ],
 "metadata": {
  "kernelspec": {
   "display_name": "Python 3",
   "language": "python",
   "name": "python3"
  },
  "language_info": {
   "codemirror_mode": {
    "name": "ipython",
    "version": 3
   },
   "file_extension": ".py",
   "mimetype": "text/x-python",
   "name": "python",
   "nbconvert_exporter": "python",
   "pygments_lexer": "ipython3",
   "version": "3.6.8"
  }
 },
 "nbformat": 4,
 "nbformat_minor": 5
}

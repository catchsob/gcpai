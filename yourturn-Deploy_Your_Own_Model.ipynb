{
 "cells": [
  {
   "cell_type": "markdown",
   "id": "dcf4b0b5",
   "metadata": {},
   "source": [
    "## Train the Model"
   ]
  },
  {
   "cell_type": "code",
   "execution_count": null,
   "id": "aa723748",
   "metadata": {},
   "outputs": [],
   "source": [
    "import numpy as np\n",
    "import tensorflow.keras as keras\n",
    "\n",
    "(x_train, y_train), (x_test, y_test) = keras.datasets.mnist.load_data()\n",
    "x_train = x_train.astype(\"float32\") / 255\n",
    "x_test = x_test.astype(\"float32\") / 255\n",
    "x_train = np.expand_dims(x_train, -1)\n",
    "x_test = np.expand_dims(x_test, -1)\n",
    "y_train = keras.utils.to_categorical(y_train, 10)\n",
    "y_test = keras.utils.to_categorical(y_test, 10)\n",
    "\n",
    "model = keras.models.Sequential()\n",
    "model.add(keras.Input(shape=(28, 28, 1)))\n",
    "model.add(keras.layers.Conv2D(32, kernel_size=(3, 3), activation=\"relu\"))\n",
    "model.add(keras.layers.MaxPooling2D(pool_size=(2, 2)))\n",
    "model.add(keras.layers.Conv2D(64, kernel_size=(3, 3), activation=\"relu\"))\n",
    "model.add(keras.layers.MaxPooling2D(pool_size=(2, 2)))\n",
    "model.add(keras.layers.Flatten())\n",
    "model.add(keras.layers.Dropout(0.5))\n",
    "model.add(keras.layers.Dense(10, activation=\"softmax\"))\n",
    "\n",
    "model.compile(loss=\"categorical_crossentropy\", optimizer=\"adam\", metrics=[\"accuracy\"])\n",
    "model.fit(x_train, y_train, batch_size=128, epochs=10, validation_split=0.1)\n",
    "model.save('mnist', save_format='tf')"
   ]
  },
  {
   "cell_type": "markdown",
   "id": "ecadeb27",
   "metadata": {},
   "source": [
    "## Deploy to Vertex AI"
   ]
  },
  {
   "cell_type": "code",
   "execution_count": null,
   "id": "56fa3324",
   "metadata": {},
   "outputs": [],
   "source": [
    "pass"
   ]
  },
  {
   "cell_type": "markdown",
   "id": "c3b627ed",
   "metadata": {},
   "source": [
    "## Inference"
   ]
  },
  {
   "cell_type": "code",
   "execution_count": null,
   "id": "45d04c09",
   "metadata": {},
   "outputs": [],
   "source": [
    "import json\n",
    "\n",
    "import numpy as np\n",
    "from PIL import Image\n",
    "\n",
    "YOUR_PIC = '2.jpg'\n",
    "\n",
    "def preprocess_image(f, res=200, r=False):\n",
    "    img = Image.open(f)\n",
    "    img = img.convert(\"L\")\n",
    "    img = img.resize((res, res))\n",
    "    data = np.array(img.getdata())\n",
    "    img = data.reshape(1, *img.size, 1)\n",
    "    img = img.astype('float32')\n",
    "    if r:\n",
    "        img = 255 - img\n",
    "    img /= 255.\n",
    "            \n",
    "    return img\n",
    "\n",
    "def dump_image(img):\n",
    "    d = {'instances': img.tolist()}\n",
    "    print(json.dumps(d))\n",
    "\n",
    "img = preprocess_image(YOUR_PIC, res=28)\n",
    "dump_image(img)"
   ]
  },
  {
   "cell_type": "code",
   "execution_count": null,
   "id": "02ee5053",
   "metadata": {},
   "outputs": [],
   "source": [
    "import os\n",
    "\n",
    "from PIL import Image\n",
    "from google.cloud import aiplatform\n",
    "\n",
    "YOUR_PROJECT = 'YOUR_PROJECT'\n",
    "YOUR_LOCATION = 'YOUR_LOCATION'\n",
    "YOUR_ENDPOINT = 'YOUR_ENDPOINT'\n",
    "YOUR_SERVICE = 'YOUR_SERVICE'\n",
    "\n",
    "os.environ['GOOGLE_APPLICATION_CREDENTIALS'] = YOUR_SERVICE\n",
    "aiplatform.init(project=YOUR_PROJECT, location=YOUR_LOCATION)\n",
    "endpoint = aiplatform.Endpoint(YOUR_ENDPOINT)\n",
    "img = preprocess_image(YOUR_PIC, res=28)  # img shape (1, 28, 28, 1)\n",
    "prediction = endpoint.predict(instances=img.tolist())  # instances < 1.5M\n",
    "print(np.argmax(prediction.predictions))"
   ]
  },
  {
   "cell_type": "code",
   "execution_count": null,
   "id": "e32c4707",
   "metadata": {},
   "outputs": [],
   "source": []
  }
 ],
 "metadata": {
  "kernelspec": {
   "display_name": "Python 3 (ipykernel)",
   "language": "python",
   "name": "python3"
  },
  "language_info": {
   "codemirror_mode": {
    "name": "ipython",
    "version": 3
   },
   "file_extension": ".py",
   "mimetype": "text/x-python",
   "name": "python",
   "nbconvert_exporter": "python",
   "pygments_lexer": "ipython3",
   "version": "3.7.11"
  }
 },
 "nbformat": 4,
 "nbformat_minor": 5
}
